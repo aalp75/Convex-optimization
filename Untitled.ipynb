{
 "cells": [
  {
   "cell_type": "code",
   "execution_count": 245,
   "metadata": {},
   "outputs": [],
   "source": [
    "import numpy as np"
   ]
  },
  {
   "cell_type": "code",
   "execution_count": 295,
   "metadata": {},
   "outputs": [],
   "source": [
    "def linesearch(f,df,delta,x,alpha=0.25,beta=0.5,max_iter = 10e4):\n",
    "    t = 1\n",
    "    i = 0\n",
    "    while(f(x + t * delta) > f(x) + alpha * t * np.dot(df(x),delta)):\n",
    "        t = beta*t\n",
    "        i+=1\n",
    "        if (i > max_iter):\n",
    "            print(\"Line search didn't converge\")\n",
    "            return 0\n",
    "    return t"
   ]
  },
  {
   "cell_type": "code",
   "execution_count": 310,
   "metadata": {},
   "outputs": [],
   "source": [
    "def gradient_descent(f,df,x_0,eps=10e-4,max_iter = 10e4):\n",
    "    x = x_0\n",
    "    i = 0\n",
    "    while(np.linalg.norm(df(x)) > eps):\n",
    "        t = linesearch(f,df,-df(x),x)\n",
    "        x = x - t * df(x)\n",
    "        #print(x)\n",
    "        i +=1\n",
    "        if (i >=max_iter):\n",
    "            print(\"Algorithm didn't converge\")\n",
    "            return x\n",
    "    print(\"Algorithm converge in\",i,\"iteration\")\n",
    "    return x\n",
    "        \n",
    "        \n",
    "    \n",
    "    "
   ]
  },
  {
   "cell_type": "code",
   "execution_count": 311,
   "metadata": {},
   "outputs": [],
   "source": [
    "def f1(x):\n",
    "    return x*x+4*x\n",
    "\n",
    "def df1(x):\n",
    "    return 2*x+4"
   ]
  },
  {
   "cell_type": "code",
   "execution_count": 312,
   "metadata": {},
   "outputs": [
    {
     "name": "stdout",
     "output_type": "stream",
     "text": [
      "Algorithm converge in 1 iteration\n",
      "The function hit his minimum at -2.0 and the value at this point is -4.0\n"
     ]
    }
   ],
   "source": [
    "x = gradient_descent(f1,df1,2.5)\n",
    "print('The function hit his minimum at',x,'and the value at this point is',f1(x))"
   ]
  },
  {
   "cell_type": "code",
   "execution_count": 313,
   "metadata": {},
   "outputs": [],
   "source": [
    "def f2(x):\n",
    "    return x[0]*x[0] + x[1]*x[1]\n",
    "\n",
    "def df2(x):\n",
    "    return np.array([2*x[0],2*x[1]])"
   ]
  },
  {
   "cell_type": "code",
   "execution_count": 314,
   "metadata": {},
   "outputs": [],
   "source": [
    "x_0 = np.array([-5,7])"
   ]
  },
  {
   "cell_type": "code",
   "execution_count": 315,
   "metadata": {},
   "outputs": [
    {
     "name": "stdout",
     "output_type": "stream",
     "text": [
      "Algorithm converge in 1 iteration\n",
      "The function hit his minimum at [0. 0.] and the value at this point is 0.0\n"
     ]
    }
   ],
   "source": [
    "x = gradient_descent(f2,df2,x_0)\n",
    "print('The function hit his minimum at',x,'and the value at this point is',f2(x))"
   ]
  },
  {
   "cell_type": "code",
   "execution_count": 316,
   "metadata": {},
   "outputs": [],
   "source": [
    "def f3(x):\n",
    "    return x[0]*x[0] + x[1]*x[1] + 4*x[0]*x[1] - 4*x[0]\n",
    "\n",
    "def df3(x):\n",
    "    return np.array([2*x[0]+4*x[1]-4,2*x[1]+4*x[0]])"
   ]
  },
  {
   "cell_type": "code",
   "execution_count": 317,
   "metadata": {},
   "outputs": [],
   "source": [
    "x_0 = np.array([10,10])"
   ]
  },
  {
   "cell_type": "code",
   "execution_count": 318,
   "metadata": {},
   "outputs": [
    {
     "name": "stdout",
     "output_type": "stream",
     "text": [
      "Algorithm converge in 734 iteration\n",
      "The function hit his minimum at [nan nan] and the value at this point is nan\n"
     ]
    },
    {
     "name": "stderr",
     "output_type": "stream",
     "text": [
      "/Users/antoine/anaconda3/lib/python3.7/site-packages/ipykernel_launcher.py:2: RuntimeWarning: overflow encountered in double_scalars\n",
      "  \n",
      "/Users/antoine/anaconda3/lib/python3.7/site-packages/ipykernel_launcher.py:2: RuntimeWarning: invalid value encountered in double_scalars\n",
      "  \n",
      "/Users/antoine/anaconda3/lib/python3.7/site-packages/ipykernel_launcher.py:7: RuntimeWarning: invalid value encountered in double_scalars\n",
      "  import sys\n",
      "/Users/antoine/anaconda3/lib/python3.7/site-packages/ipykernel_launcher.py:5: RuntimeWarning: overflow encountered in double_scalars\n",
      "  \"\"\"\n",
      "/Users/antoine/anaconda3/lib/python3.7/site-packages/ipykernel_launcher.py:7: RuntimeWarning: invalid value encountered in add\n",
      "  import sys\n",
      "/Users/antoine/anaconda3/lib/python3.7/site-packages/ipykernel_launcher.py:6: RuntimeWarning: invalid value encountered in subtract\n",
      "  \n"
     ]
    }
   ],
   "source": [
    "x = gradient_descent(f3,df3,x_0)\n",
    "print('The function hit his minimum at',x,'and the value at this point is',f3(x))"
   ]
  },
  {
   "cell_type": "code",
   "execution_count": 319,
   "metadata": {},
   "outputs": [],
   "source": [
    "def f4(x):\n",
    "    return x[0]*x[0] + x[1]*x[1] + x[0]*x[1] - 3*x[0] - 6*x[1]\n",
    "\n",
    "def df4(x):\n",
    "    return np.array([2*x[0]+x[1]-3,2*x[1]+x[0]-6])"
   ]
  },
  {
   "cell_type": "code",
   "execution_count": 320,
   "metadata": {},
   "outputs": [],
   "source": [
    "x_0 = np.array([-4,10])"
   ]
  },
  {
   "cell_type": "code",
   "execution_count": 321,
   "metadata": {},
   "outputs": [
    {
     "name": "stdout",
     "output_type": "stream",
     "text": [
      "Algorithm converge in 14 iteration\n",
      "The function hit his minimum at [-2.44140625e-04  3.00042725e+00] and the value at this point is -8.999999862164259\n"
     ]
    }
   ],
   "source": [
    "x = gradient_descent(f4,df4,x_0)\n",
    "print('The function hit his minimum at',x,'and the value at this point is',f4(x))"
   ]
  }
 ],
 "metadata": {
  "kernelspec": {
   "display_name": "Python 3",
   "language": "python",
   "name": "python3"
  },
  "language_info": {
   "codemirror_mode": {
    "name": "ipython",
    "version": 3
   },
   "file_extension": ".py",
   "mimetype": "text/x-python",
   "name": "python",
   "nbconvert_exporter": "python",
   "pygments_lexer": "ipython3",
   "version": "3.7.3"
  }
 },
 "nbformat": 4,
 "nbformat_minor": 2
}
